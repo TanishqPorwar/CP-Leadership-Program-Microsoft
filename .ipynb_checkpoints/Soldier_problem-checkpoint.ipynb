{
 "cells": [
  {
   "cell_type": "code",
   "execution_count": 33,
   "metadata": {},
   "outputs": [],
   "source": [
    "from collections import defaultdict\n",
    "from itertools import combinations_with_replacement\n",
    "value={}\n",
    "value['boat'] = 0\n",
    "value['l'] = 1\n",
    "value['b1'] = 180\n",
    "value['b2'] = 1000\n",
    "value['a'] = 100000"
   ]
  },
  {
   "cell_type": "code",
   "execution_count": 36,
   "metadata": {},
   "outputs": [],
   "source": [
    "def validateState(state):\n",
    "    leftSide = state[0]\n",
    "    rightSide = state[1]\n",
    "    if len(raft)>2:\n",
    "        return False\n",
    "    if ['l'] in state:\n",
    "        return False\n",
    "    else:\n",
    "        return True"
   ]
  },
  {
   "cell_type": "code",
   "execution_count": 37,
   "metadata": {},
   "outputs": [],
   "source": [
    "def mapstateToKey(state):\n",
    "    key = 0\n",
    "    for thing in state[0]:\n",
    "        key +=value[thing]\n",
    "#     print(state[1])\n",
    "    for thing in state[1]:\n",
    "        key -=value[thing]\n",
    "    return key"
   ]
  },
  {
   "cell_type": "code",
   "execution_count": 38,
   "metadata": {},
   "outputs": [],
   "source": [
    "def thingsOtherthan(things,side):\n",
    "    return [i for i in side if i not in things]"
   ]
  },
  {
   "cell_type": "code",
   "execution_count": 47,
   "metadata": {},
   "outputs": [],
   "source": [
    "def generateNextUtil(source,destination,isSwapReq):\n",
    "    com = list(combinations_with_replacement(set(source)-set(['boat']),2))\n",
    "    nextState = []\n",
    "    for things in com:\n",
    "        d = destination.copy()\n",
    "        if not isSwapReq:\n",
    "            d.extend(set(things))\n",
    "#             print(thing,'---',thingsOtherthan([thing,'f'],source),'---',d)\n",
    "            nextState.append([thingsOtherthan(things,source),d])\n",
    "        elif isSwapReq:\n",
    "            d.extend(things)\n",
    "            nextState.append([d,thingsOtherthan(thing,source)])\n",
    "#         print(nextState)\n",
    "    return nextState"
   ]
  },
  {
   "cell_type": "code",
   "execution_count": 48,
   "metadata": {},
   "outputs": [],
   "source": [
    "def generateNext(state):\n",
    "    if 'boat' in state[0]:\n",
    "        return generateNextUtil(state[0],state[1],False)\n",
    "    return generateNextUtil(state[1],state[0],True)"
   ]
  },
  {
   "cell_type": "code",
   "execution_count": 49,
   "metadata": {},
   "outputs": [],
   "source": [
    "def isEnd(state):\n",
    "    if set(state[1]) == set(['a','l','b1','b2']):\n",
    "        return True\n",
    "    return False"
   ]
  },
  {
   "cell_type": "code",
   "execution_count": 50,
   "metadata": {},
   "outputs": [],
   "source": [
    "def solve():\n",
    "    visited = defaultdict(lambda:float('inf'))\n",
    "    initState =[['a','l','b1','b2'],[]]\n",
    "    q = [initState]\n",
    "    visited[mapstateToKey(initState)] = 0\n",
    "#     i = 0\n",
    "    while len(q)!=0:\n",
    "#         i = i+1\n",
    "        cur = q.pop(0)\n",
    "        print('\\ncur = ',cur)\n",
    "        if isEnd(cur):\n",
    "            return visited[mapstateToKey(cur)]\n",
    "        nextStates = generateNext(cur)\n",
    "        for state in nextStates:\n",
    "#             print('1',state)\n",
    "            if validateState(state):\n",
    "#                 print('2',state)\n",
    "                if visited[mapstateToKey(state)]==float('inf'):\n",
    "#                     print('\\n',i,' ',state)\n",
    "                    q.append(state)\n",
    "                    visited[mapstateToKey(state)] = visited[mapstateToKey(cur)]+1"
   ]
  },
  {
   "cell_type": "code",
   "execution_count": 51,
   "metadata": {},
   "outputs": [
    {
     "name": "stdout",
     "output_type": "stream",
     "text": [
      "\n",
      "cur =  [['a', 'l', 'b1', 'b2'], []]\n"
     ]
    }
   ],
   "source": [
    "solve()"
   ]
  },
  {
   "cell_type": "code",
   "execution_count": null,
   "metadata": {},
   "outputs": [],
   "source": []
  },
  {
   "cell_type": "code",
   "execution_count": 14,
   "metadata": {},
   "outputs": [
    {
     "data": {
      "text/plain": [
       "[(2, 2), (2, 3), (3, 3)]"
      ]
     },
     "execution_count": 14,
     "metadata": {},
     "output_type": "execute_result"
    }
   ],
   "source": []
  },
  {
   "cell_type": "code",
   "execution_count": 20,
   "metadata": {},
   "outputs": [
    {
     "data": {
      "text/plain": [
       "[('a', 'a'),\n",
       " ('a', 'l'),\n",
       " ('a', 'b1'),\n",
       " ('a', 'b2'),\n",
       " ('l', 'l'),\n",
       " ('l', 'b1'),\n",
       " ('l', 'b2'),\n",
       " ('b1', 'b1'),\n",
       " ('b1', 'b2'),\n",
       " ('b2', 'b2')]"
      ]
     },
     "execution_count": 20,
     "metadata": {},
     "output_type": "execute_result"
    }
   ],
   "source": [
    "list(combinations_with_replacement(set(['a','l','b1','b2','boat'])-set(['boat']),2))"
   ]
  },
  {
   "cell_type": "code",
   "execution_count": 25,
   "metadata": {},
   "outputs": [
    {
     "name": "stdout",
     "output_type": "stream",
     "text": [
      "[1, 2]\n"
     ]
    }
   ],
   "source": [
    "a= []\n",
    "a.extend((1,2))\n",
    "print(a)"
   ]
  },
  {
   "cell_type": "code",
   "execution_count": null,
   "metadata": {},
   "outputs": [],
   "source": []
  },
  {
   "cell_type": "code",
   "execution_count": null,
   "metadata": {},
   "outputs": [],
   "source": []
  }
 ],
 "metadata": {
  "kernelspec": {
   "display_name": "Python 3",
   "language": "python",
   "name": "python3"
  },
  "language_info": {
   "codemirror_mode": {
    "name": "ipython",
    "version": 3
   },
   "file_extension": ".py",
   "mimetype": "text/x-python",
   "name": "python",
   "nbconvert_exporter": "python",
   "pygments_lexer": "ipython3",
   "version": "3.7.3"
  }
 },
 "nbformat": 4,
 "nbformat_minor": 2
}
